{
 "cells": [
  {
   "cell_type": "code",
   "execution_count": 1,
   "metadata": {},
   "outputs": [
    {
     "name": "stdout",
     "output_type": "stream",
     "text": [
      "Jupyter environment detected. Enabling Open3D WebVisualizer.\n",
      "[Open3D INFO] WebRTC GUI backend enabled.\n",
      "[Open3D INFO] WebRTCWindowSystem: HTTP handshake server disabled.\n",
      "Load a ply point cloud, print it, and render it\n"
     ]
    }
   ],
   "source": [
    "import open3d as o3d\n",
    "import numpy as np\n",
    "from glob import glob \n",
    "np.set_printoptions(threshold=np.inf)\n",
    "\n",
    "print(\"Load a ply point cloud, print it, and render it\")\n",
    "dir = '/media/an/New Volume/cleargrasp/results/new/bae_pidi_mkdc/exp-000/output-point-cloud'\n",
    "path = sorted(glob(f\"{dir}/*-pointcloud.ply\"))\n",
    "\n",
    "for i in range(len(path)):\n",
    "    pcd = o3d.io.read_point_cloud(path[i])\n",
    "    R = pcd.get_rotation_matrix_from_xyz((np.pi, 0, 0))\n",
    "    pcd.rotate(R, center= pcd.get_center())\n",
    "    o3d.visualization.draw_geometries([pcd])\n"
   ]
  }
 ],
 "metadata": {
  "kernelspec": {
   "display_name": "Python 3.8.10 64-bit",
   "language": "python",
   "name": "python3"
  },
  "language_info": {
   "codemirror_mode": {
    "name": "ipython",
    "version": 3
   },
   "file_extension": ".py",
   "mimetype": "text/x-python",
   "name": "python",
   "nbconvert_exporter": "python",
   "pygments_lexer": "ipython3",
   "version": "3.8.10"
  },
  "orig_nbformat": 4,
  "vscode": {
   "interpreter": {
    "hash": "916dbcbb3f70747c44a77c7bcd40155683ae19c65e1c03b4aa3499c5328201f1"
   }
  }
 },
 "nbformat": 4,
 "nbformat_minor": 2
}
